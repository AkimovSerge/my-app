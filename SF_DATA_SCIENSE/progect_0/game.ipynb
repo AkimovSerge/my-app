{
 "cells": [
  {
   "cell_type": "code",
   "execution_count": 3,
   "metadata": {},
   "outputs": [],
   "source": [
    "import game_v2"
   ]
  },
  {
   "cell_type": "markdown",
   "metadata": {},
   "source": [
    "Игра угадай число"
   ]
  },
  {
   "cell_type": "code",
   "execution_count": 1,
   "metadata": {},
   "outputs": [
    {
     "name": "stdout",
     "output_type": "stream",
     "text": [
      "Число должно быть больше\n",
      "Число должно быть больше\n",
      "Число должно быть больше\n",
      "Число должно быть больше\n",
      "Число должно быть больше\n",
      "Число должно быть меньше\n",
      "Число должно быть меньше\n",
      "Вы угадали число! Это число = 58, за 8 попыток\n"
     ]
    }
   ],
   "source": [
    "\"\"\"Игра Угадай число\"\"\"\n",
    "import numpy as np\n",
    "number = np.random.randint(1, 101) # загадываем число\n",
    "# количество попыток\n",
    "count = 0\n",
    "while True:\n",
    "    count += 1\n",
    "    predict_number = int(input(\"Угадай число от 1 до 100:\"))\n",
    "    \n",
    "    if predict_number > number:\n",
    "        print(\"Число должно быть меньше\")\n",
    "    \n",
    "    elif predict_number < number:\n",
    "        print(\"Число должно быть больше\")\n",
    "    \n",
    "    else:\n",
    "        print(f\"Вы угадали число! Это число = {number}, за {count} попыток\")\n",
    "        break # конец игры - выход из цыкла."
   ]
  },
  {
   "cell_type": "code",
   "execution_count": null,
   "metadata": {},
   "outputs": [],
   "source": [
    "from game_v2 import score_game\n",
    "from game_v2 import random_predict"
   ]
  },
  {
   "cell_type": "markdown",
   "metadata": {},
   "source": [
    "Угадываем рандомно"
   ]
  },
  {
   "cell_type": "code",
   "execution_count": null,
   "metadata": {},
   "outputs": [
    {
     "name": "stdout",
     "output_type": "stream",
     "text": [
      "Ваш алгоритм угадывает число в среднем за: 101 попыток\n"
     ]
    },
    {
     "data": {
      "text/plain": [
       "101"
      ]
     },
     "execution_count": 3,
     "metadata": {},
     "output_type": "execute_result"
    }
   ],
   "source": [
    "score_game(random_predict)"
   ]
  },
  {
   "cell_type": "markdown",
   "metadata": {},
   "source": [
    "Код игры"
   ]
  },
  {
   "cell_type": "code",
   "execution_count": 4,
   "metadata": {},
   "outputs": [],
   "source": [
    "import numpy as np\n",
    "\n",
    "def random_predict(number:int=1) -> int:\n",
    "    \"\"\" Угадываем случайное число\n",
    "\n",
    "    Args:\n",
    "        number (int, optional): Случайное число. Defaults to 1.\n",
    "\n",
    "    Returns:\n",
    "        int: Число попыток\n",
    "    \"\"\"\n",
    "    count = 0 # Число попыток\n",
    "    \n",
    "    while True:\n",
    "        count+=1\n",
    "        predict_number = np.random.randint(1, 101)\n",
    "        if number == predict_number:\n",
    "            break # конец игры - выход из цыкла.\n",
    "    return(count)\n",
    "\n",
    "def score_game(random_predict) -> int:\n",
    "    \"\"\"Среднее кол-во попыток для угадывания из 1000 подходов \n",
    "\n",
    "    Args:\n",
    "        random_predict (_type_): функция угадывания\n",
    "\n",
    "    Returns:\n",
    "        int: среднее кол-во попыток\n",
    "    \"\"\"\n",
    "    count_ls = []\n",
    "    np.random.seed(1) # передаем в генератор случайных чисел начальное число\n",
    "    random_array = np.random.randint(1, 101, size=(1000)) # загадали список чисел\n",
    "    \n",
    "    for number in random_array:\n",
    "        count_ls.append(random_predict(number))\n",
    "    \n",
    "    score = int(np.mean(count_ls))\n",
    "    print(f\"Ваш алгоритм угадывает число в среднем за: {score} попыток\")\n",
    "    return(score)"
   ]
  },
  {
   "cell_type": "markdown",
   "metadata": {},
   "source": [
    "Вызов функций игры "
   ]
  },
  {
   "cell_type": "code",
   "execution_count": 5,
   "metadata": {},
   "outputs": [
    {
     "name": "stdout",
     "output_type": "stream",
     "text": [
      "Ваш алгоритм угадывает число в среднем за: 101 попыток\n"
     ]
    },
    {
     "data": {
      "text/plain": [
       "101"
      ]
     },
     "execution_count": 5,
     "metadata": {},
     "output_type": "execute_result"
    }
   ],
   "source": [
    "score_game(random_predict)"
   ]
  },
  {
   "cell_type": "markdown",
   "metadata": {},
   "source": [
    "Юпитер переменные"
   ]
  },
  {
   "cell_type": "code",
   "execution_count": null,
   "metadata": {},
   "outputs": [],
   "source": [
    "n=10"
   ]
  },
  {
   "cell_type": "code",
   "execution_count": null,
   "metadata": {},
   "outputs": [],
   "source": [
    "z=60"
   ]
  },
  {
   "cell_type": "code",
   "execution_count": null,
   "metadata": {},
   "outputs": [],
   "source": []
  }
 ],
 "metadata": {
  "kernelspec": {
   "display_name": "Python 3",
   "language": "python",
   "name": "python3"
  },
  "language_info": {
   "codemirror_mode": {
    "name": "ipython",
    "version": 3
   },
   "file_extension": ".py",
   "mimetype": "text/x-python",
   "name": "python",
   "nbconvert_exporter": "python",
   "pygments_lexer": "ipython3",
   "version": "3.13.2"
  }
 },
 "nbformat": 4,
 "nbformat_minor": 2
}
